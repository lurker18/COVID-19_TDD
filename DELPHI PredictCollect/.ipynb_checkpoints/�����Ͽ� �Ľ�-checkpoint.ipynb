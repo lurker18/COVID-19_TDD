{
 "cells": [
  {
   "cell_type": "code",
   "execution_count": 270,
   "id": "4efb9e14",
   "metadata": {},
   "outputs": [],
   "source": [
    "from selenium import webdriver\n",
    "from selenium.webdriver.chrome.service import Service\n",
    "from webdriver_manager.chrome import ChromeDriverManager\n",
    "from selenium.webdriver.common.by import By\n",
    "from datetime import datetime"
   ]
  },
  {
   "cell_type": "code",
   "execution_count": 271,
   "id": "5e22dcf9",
   "metadata": {},
   "outputs": [
    {
     "name": "stdout",
     "output_type": "stream",
     "text": [
      "\n"
     ]
    }
   ],
   "source": [
    "#셀레니움 드라이버 시작\n",
    "chrome_options = webdriver.ChromeOptions()\n",
    "driver = webdriver.Chrome(service=Service(ChromeDriverManager().install()), options=chrome_options)"
   ]
  },
  {
   "cell_type": "code",
   "execution_count": 272,
   "id": "92fe9b78",
   "metadata": {},
   "outputs": [],
   "source": [
    "#사이트 이동\n",
    "driver.get('https://delphi.cmu.edu/forecast-eval/')"
   ]
  },
  {
   "cell_type": "code",
   "execution_count": 273,
   "id": "0c4c9330",
   "metadata": {},
   "outputs": [],
   "source": [
    "#테스트 셋의 예측 시작, 끝 지점      \n",
    "#2021-09-18   ~   2021-12-31\n",
    "startDate = datetime(2021, 9, 18)\n",
    "endDate = datetime(2022, 1, 1)\n",
    "\n",
    "\n",
    "best12_states = [\n",
    "    'California',\n",
    "    'Florida',\n",
    "    'New York',\n",
    "    'Texas',\n",
    "    'Illinois',\n",
    "    'Pennsylvania',\n",
    "    'North Carolina',\n",
    "    'New Jersey',\n",
    "    'Indiana',\n",
    "    'Virginia',\n",
    "    'Louisiana',\n",
    "    'Wisconsin'\n",
    "]\n",
    "\n",
    "#XPATH 선택자\n",
    "selectors = {\n",
    "    'cases_radio' : '//*[@id=\"targetVariable\"]/div/div[2]/label/input',\n",
    "    'score_radio' : '//*[@id=\"scoreType\"]/div/div[3]/label/input',\n",
    "    'model_selectbox' : '//*[@id=\"forecasters-selectized\"]',\n",
    "    'model_listbox' : '/html/body/div[1]/div[2]/div/div[1]/form/div[1]/div/div/div[4]/div/div/div[2]/div',\n",
    "    'location_combobox' : '//*[@id=\"delphi-root\"]/div[2]/div/div[1]/form/div[1]/div/div/div[7]/div/div/div',\n",
    "    'location_listbox' : '/html/body/div[1]/div[2]/div/div[1]/form/div[1]/div/div/div[7]/div/div/div/div[2]/div',\n",
    "    'date_combobox' : '/html/body/div[1]/div[2]/div/div[1]/form/div[1]/div/div/div[8]/div/div/div[1]',\n",
    "    'date_listbox' : '/html/body/div[1]/div[2]/div/div[1]/form/div[1]/div/div/div[8]/div/div/div[2]',\n",
    "    'select_end' : '/html/body/div[1]/div[2]/div/div[2]/div/div/div[2]/div[2]/div/div',\n",
    "    'csv_download_bth' : '//*[@id=\"exportScores-exportScores\"]'\n",
    "}"
   ]
  },
  {
   "cell_type": "code",
   "execution_count": 274,
   "id": "8e5cf12a",
   "metadata": {},
   "outputs": [],
   "source": [
    "#라디오 버튼 체크(발생 별로)\n",
    "def select_cases():\n",
    "    driver.find_element(By.XPATH, selectors['cases_radio']).click()\n",
    "#end def\n",
    "\n",
    "#라디오 버튼 체크(발생 별로)\n",
    "def select_score():\n",
    "    driver.find_element(By.XPATH, selectors['score_radio']).click()\n",
    "#end def\n",
    "\n",
    "#모델 선택(앙상블 모델)\n",
    "def select_model(model_name):\n",
    "    driver.find_element(By.XPATH, selectors['model_selectbox']).click()\n",
    "    driver.implicitly_wait(1)\n",
    "    \n",
    "    modelIsExist = False\n",
    "    models = driver.find_element(By.XPATH, selectors['model_listbox']).find_elements(By.XPATH, './/div')\n",
    "    for e in models:\n",
    "        if e.text == 'COVIDhub-4_week_ensemble':\n",
    "            e.click()\n",
    "            modelIsExist = True\n",
    "            break\n",
    "        #end if\n",
    "    #end for\n",
    "\n",
    "    driver.implicitly_wait(1)\n",
    "    driver.find_element(By.XPATH, selectors['select_end']).click()\n",
    "    driver.implicitly_wait(1)\n",
    "    return modelIsExist\n",
    "#end def\n",
    "\n",
    "def select_state(state):\n",
    "    #지역 선택\n",
    "    driver.find_element(By.XPATH, selectors['location_combobox']).click()\n",
    "    driver.implicitly_wait(1)\n",
    "\n",
    "    stateIsExist = False\n",
    "    locations = driver.find_element(By.XPATH, selectors['location_listbox']).find_elements(By.XPATH, './/div')\n",
    "    for e in locations:\n",
    "        if state in e.text:\n",
    "            e.click()\n",
    "            stateIsExist = True\n",
    "            break\n",
    "        #end if\n",
    "    #end for\n",
    "\n",
    "    driver.implicitly_wait(1)\n",
    "    driver.find_element(By.XPATH, selectors['select_end']).click()\n",
    "    driver.implicitly_wait(1)\n",
    "    return stateIsExist\n",
    "#end def\n",
    "\n",
    "#날짜 선택\n",
    "def select_date(date):\n",
    "    driver.find_element(By.XPATH, selectors['date_combobox']).click()\n",
    "    driver.implicitly_wait(1)\n",
    "\n",
    "    target_date = date.strftime(\"%Y-%m-%d\")\n",
    "    dateIsExist = False\n",
    "    locations = driver.find_element(By.XPATH, selectors['date_listbox']).find_elements(By.XPATH, './/div')\n",
    "    for e in locations:\n",
    "        if target_date == e.text:\n",
    "            e.click()\n",
    "            dateIsExist = True\n",
    "            break\n",
    "        #end if\n",
    "    #end for\n",
    "\n",
    "    driver.implicitly_wait(1)\n",
    "    driver.find_element(By.XPATH, selectors['select_end']).click()\n",
    "    driver.implicitly_wait(1)\n",
    "    return dateIsExist\n",
    "#end def\n",
    "\n",
    "def download_csv():\n",
    "    driver.find_element(By.XPATH, selectors['csv_download_bth']).click()\n",
    "#end def"
   ]
  },
  {
   "cell_type": "code",
   "execution_count": 282,
   "id": "5fc9c0b7",
   "metadata": {},
   "outputs": [
    {
     "data": {
      "text/plain": [
       "False"
      ]
     },
     "execution_count": 282,
     "metadata": {},
     "output_type": "execute_result"
    }
   ],
   "source": [
    "select_cases()\n",
    "select_score()\n",
    "select_model('COVIDhub-4_week_ensemble')"
   ]
  },
  {
   "cell_type": "code",
   "execution_count": 289,
   "id": "611987f6",
   "metadata": {},
   "outputs": [],
   "source": [
    "for state in best12_states:\n",
    "    select_state(state)"
   ]
  },
  {
   "cell_type": "code",
   "execution_count": 278,
   "id": "7101afc4",
   "metadata": {},
   "outputs": [],
   "source": [
    "download_csv()"
   ]
  },
  {
   "cell_type": "code",
   "execution_count": null,
   "id": "903be0bb",
   "metadata": {},
   "outputs": [],
   "source": []
  }
 ],
 "metadata": {
  "kernelspec": {
   "display_name": "tf_env",
   "language": "python",
   "name": "tf_env"
  },
  "language_info": {
   "codemirror_mode": {
    "name": "ipython",
    "version": 3
   },
   "file_extension": ".py",
   "mimetype": "text/x-python",
   "name": "python",
   "nbconvert_exporter": "python",
   "pygments_lexer": "ipython3",
   "version": "3.8.13"
  }
 },
 "nbformat": 4,
 "nbformat_minor": 5
}
